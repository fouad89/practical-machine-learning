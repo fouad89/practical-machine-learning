{
 "cells": [
  {
   "cell_type": "code",
   "execution_count": 2,
   "source": [
    "from os import path\n",
    "import numpy as np"
   ],
   "outputs": [],
   "metadata": {}
  },
  {
   "cell_type": "code",
   "execution_count": 72,
   "source": [
    "FOLDER = 'NumPy_Datasets'\n",
    "cork_file = 'CorkRainfall.txt'\n",
    "dublin_file = 'DublinRainfall.txt'\n",
    "bike_file = 'bike.csv'"
   ],
   "outputs": [],
   "metadata": {}
  },
  {
   "cell_type": "code",
   "execution_count": 3,
   "source": [
    "cork_dataset = np.genfromtxt(path.join(FOLDER, cork_file))"
   ],
   "outputs": [],
   "metadata": {}
  },
  {
   "cell_type": "code",
   "execution_count": 4,
   "source": [
    "cork_dataset"
   ],
   "outputs": [
    {
     "output_type": "execute_result",
     "data": {
      "text/plain": [
       "array([[1.962e+03, 1.000e+00, 1.346e+02, 1.250e+01, 2.200e+01],\n",
       "       [1.962e+03, 2.000e+00, 7.720e+01, 1.120e+01, 1.700e+01],\n",
       "       [1.962e+03, 3.000e+00, 7.360e+01, 1.340e+01, 1.300e+01],\n",
       "       ...,\n",
       "       [2.011e+03, 1.000e+01, 9.180e+01, 2.440e+01, 2.200e+01],\n",
       "       [2.011e+03, 1.100e+01, 1.486e+02, 3.520e+01, 2.300e+01],\n",
       "       [2.011e+03, 1.200e+01, 8.710e+01, 2.200e+01, 2.600e+01]])"
      ]
     },
     "metadata": {},
     "execution_count": 4
    }
   ],
   "metadata": {}
  },
  {
   "cell_type": "code",
   "execution_count": 5,
   "source": [
    "# Each line of the file contains the following precipitation information pertaining to a specific month and year:\n",
    "# Year\n",
    "# Month(1 = Jan, 2 = Feb, 3 = March, etc. )\n",
    "# Total Rainfall (Millimetres)\n",
    "# Most Rainfall in a Day (Millimetres)\n",
    "# Number of Raindays (A day is classified as a rain day if it has >= 0.2mm rain) (Number)"
   ],
   "outputs": [],
   "metadata": {}
  },
  {
   "cell_type": "markdown",
   "source": [
    "## Task 1"
   ],
   "metadata": {}
  },
  {
   "cell_type": "code",
   "execution_count": 6,
   "source": [
    "# Print out the max ‘Most Rainfall in a Day’ value and the average \n",
    "# ‘Most Rainfall in a Day’ value for the Cork data \n",
    "# (that is,obtain the maximumvalue contained in this column of data and the average value in this column of data)"
   ],
   "outputs": [],
   "metadata": {}
  },
  {
   "cell_type": "code",
   "execution_count": 7,
   "source": [
    "cork_dataset.shape"
   ],
   "outputs": [
    {
     "output_type": "execute_result",
     "data": {
      "text/plain": [
       "(600, 5)"
      ]
     },
     "metadata": {},
     "execution_count": 7
    }
   ],
   "metadata": {}
  },
  {
   "cell_type": "code",
   "execution_count": 8,
   "source": [
    "max_rainfall = np.max(cork_dataset[:,3])\n",
    "avg_rainfall = np.mean(cork_dataset[:,3])\n",
    "\n",
    "\n",
    "\n",
    "print(f'The Maximum rainfall {max_rainfall}')\n",
    "print(f\"The Average rainfall {avg_rainfall}\")"
   ],
   "outputs": [
    {
     "output_type": "stream",
     "name": "stdout",
     "text": [
      "The Maximum rainfall 86.7\n",
      "The Average rainfall 22.9105\n"
     ]
    }
   ],
   "metadata": {}
  },
  {
   "cell_type": "markdown",
   "source": [
    "## Task 2"
   ],
   "metadata": {}
  },
  {
   "cell_type": "code",
   "execution_count": 9,
   "source": [
    "# Display all unique years for which there is data in the dataset (you can use np.unique) \n",
    "# Ask the user to select a specific year. You should then output the sum of the Rain Days column for that year\n",
    "# (you do this by adding up the \"Number of rain days”for all 12 rowspertaining to the selected year)"
   ],
   "outputs": [],
   "metadata": {}
  },
  {
   "cell_type": "code",
   "execution_count": 10,
   "source": [
    "print(f'Unique Years: {np.unique(cork_dataset[:,0])}')"
   ],
   "outputs": [
    {
     "output_type": "stream",
     "name": "stdout",
     "text": [
      "Unique Years: [1962. 1963. 1964. 1965. 1966. 1967. 1968. 1969. 1970. 1971. 1972. 1973.\n",
      " 1974. 1975. 1976. 1977. 1978. 1979. 1980. 1981. 1982. 1983. 1984. 1985.\n",
      " 1986. 1987. 1988. 1989. 1990. 1991. 1992. 1993. 1994. 1995. 1996. 1997.\n",
      " 1998. 1999. 2000. 2001. 2002. 2003. 2004. 2005. 2006. 2007. 2008. 2009.\n",
      " 2010. 2011.]\n"
     ]
    }
   ],
   "metadata": {}
  },
  {
   "cell_type": "code",
   "execution_count": 11,
   "source": [
    "year = int(input(\"Which year would you like the data? \"))\n",
    "data_filter = cork_dataset[:,0] == year\n",
    "year_data = cork_dataset[data_filter]\n",
    "total_rain = np.sum(year_data[:,-1])\n",
    "print(f\"The total rain for {year} is {total_rain} millimeters\")"
   ],
   "outputs": [
    {
     "output_type": "stream",
     "name": "stdout",
     "text": [
      "The total rain for 1962 is 193.0 millimeters\n"
     ]
    }
   ],
   "metadata": {}
  },
  {
   "cell_type": "markdown",
   "source": [
    "## Task 3"
   ],
   "metadata": {}
  },
  {
   "cell_type": "code",
   "execution_count": 12,
   "source": [
    "# Calculate the wettest month of the year in Cork based using the “Total Rainfall” value. \n",
    "# The month that has the highest cumulative “Total Rainfall” value across all years should be classified as the wettest \n",
    "# (please note you can use a for loop in answering this question)."
   ],
   "outputs": [],
   "metadata": {}
  },
  {
   "cell_type": "code",
   "execution_count": 13,
   "source": [
    "wettest_months = []\n",
    "for i in range(1,13):\n",
    "    month_filter = cork_dataset[:,1] == i\n",
    "    month_data = cork_dataset[month_filter]\n",
    "    rain_amount = np.sum(month_data[:,2], axis=0)\n",
    "    wettest_months.append(rain_amount)\n",
    "print(f\"The wettest month in cork is {np.argmax(wettest_months) + 1} with {np.max(wettest_months)} millimeters\")"
   ],
   "outputs": [
    {
     "output_type": "stream",
     "name": "stdout",
     "text": [
      "The wettest month in cork is 1 with 6848.1 millimeters\n"
     ]
    }
   ],
   "metadata": {}
  },
  {
   "cell_type": "markdown",
   "source": [
    "## Task 4"
   ],
   "metadata": {}
  },
  {
   "cell_type": "code",
   "execution_count": 60,
   "source": [
    "# This question focuses on the Number of Rain days column. The user is asked to enter a maximum threshold value for the number of rain days. \n",
    "# Your code should then output the percentage of the time (percentage of rows in the dataset) where the number of rain days is less than or equal to the threshold value."
   ],
   "outputs": [],
   "metadata": {}
  },
  {
   "cell_type": "code",
   "execution_count": 37,
   "source": [
    "max_threshold = int(input(\"Maximum Number of days? \"))\n",
    "rain_days_filter = cork_dataset[:,-1] <= max_threshold\n",
    "pct_rain_days = round(len(cork_dataset[rain_days_filter])) / len(cork_dataset)\n",
    "print(f\"Percentage of time where the number of rains days is less than or equal to {max_threshold} days, is {pct_rain_days*100:.2f} %\")"
   ],
   "outputs": [
    {
     "output_type": "stream",
     "name": "stdout",
     "text": [
      "Percentage of time where the number of rains days is less than or equal to 15 days, is 34.83%\n"
     ]
    }
   ],
   "metadata": {}
  },
  {
   "cell_type": "markdown",
   "source": [
    "## Task 5"
   ],
   "metadata": {}
  },
  {
   "cell_type": "code",
   "execution_count": 38,
   "source": [
    "# Calculate the average ‘total rainfall’ value for the summer months \n",
    "# (June, July and August) and the Autumn months (Sept, Oct, Nov).\n"
   ],
   "outputs": [],
   "metadata": {}
  },
  {
   "cell_type": "code",
   "execution_count": 60,
   "source": [
    "summer_months = [6, 7, 8]\n",
    "autumn_months = [9, 10, 11]\n",
    "sum_filter = np.isin(cork_dataset[:,1], summer_months)\n",
    "aut_filter = np.isin(cork_dataset[:,1], autumn_months)\n",
    "\n",
    "sum_aut_data = cork_dataset[(sum_filter) | (aut_filter)]\n",
    "sum_aut_rainfall = np.mean(sum_aut_data[:2])\n",
    "print(f\"Average rain full during summer & autmn is: {sum_aut_rainfall:.2f} ml\")"
   ],
   "outputs": [
    {
     "output_type": "stream",
     "name": "stdout",
     "text": [
      "Average rain full during summer & autmn is: 415.22 ml\n"
     ]
    }
   ],
   "metadata": {}
  },
  {
   "cell_type": "markdown",
   "source": [
    "## Task 6"
   ],
   "metadata": {}
  },
  {
   "cell_type": "code",
   "execution_count": 61,
   "source": [
    "# Read in the contents of the file DublinRainfall.txt into a NumPy array.\n",
    "# Append the all rows from the Dublin array to the Cork NumPy array. \n",
    "# Calculate the average number of raindays for the new array and write the new NumPy array to a CSV file"
   ],
   "outputs": [],
   "metadata": {}
  },
  {
   "cell_type": "code",
   "execution_count": 62,
   "source": [
    "dublin_dataset = np.genfromtxt(os.path.join(FOLDER, dublin_file))"
   ],
   "outputs": [],
   "metadata": {}
  },
  {
   "cell_type": "code",
   "execution_count": 63,
   "source": [
    "dublin_dataset"
   ],
   "outputs": [
    {
     "output_type": "execute_result",
     "data": {
      "text/plain": [
       "array([[1.962e+03, 1.000e+00, 4.110e+01, 7.100e+00, 1.600e+01],\n",
       "       [1.962e+03, 2.000e+00, 2.670e+01, 5.700e+00, 1.400e+01],\n",
       "       [1.962e+03, 3.000e+00, 5.360e+01, 1.510e+01, 1.300e+01],\n",
       "       ...,\n",
       "       [2.011e+03, 1.000e+01, 1.474e+02, 7.130e+01, 1.800e+01],\n",
       "       [2.011e+03, 1.100e+01, 4.850e+01, 1.170e+01, 1.100e+01],\n",
       "       [2.011e+03, 1.200e+01, 5.220e+01, 5.200e+00, 2.300e+01]])"
      ]
     },
     "metadata": {},
     "execution_count": 63
    }
   ],
   "metadata": {}
  },
  {
   "cell_type": "code",
   "execution_count": 67,
   "source": [
    "full_data = np.append(cork_dataset, dublin_dataset, axis=0)\n",
    "print(full_data.shape)"
   ],
   "outputs": [
    {
     "output_type": "stream",
     "name": "stdout",
     "text": [
      "(1200, 5)\n"
     ]
    }
   ],
   "metadata": {}
  },
  {
   "cell_type": "code",
   "execution_count": 70,
   "source": [
    "print(f'Average {np.mean(full_data[:4])}')"
   ],
   "outputs": [
    {
     "output_type": "stream",
     "name": "stdout",
     "text": [
      "Average 416.93500000000006\n"
     ]
    }
   ],
   "metadata": {}
  },
  {
   "cell_type": "markdown",
   "source": [
    "# Question 2 - Numerical Analysis Exercises using NumPy Bike Dataset:"
   ],
   "metadata": {}
  },
  {
   "cell_type": "markdown",
   "source": [
    "The following are the details of the various fields in this dataset.<br>\n",
    "\n",
    "0. instant: record index<br>\n",
    "1. season : season (1:springer, 2:summer, 3:fall, 4:winter)<br>\n",
    "2. yr : year (0: 2011, 1:2012)<br>\n",
    "3. mnth : month ( 1 to 12)<br>\n",
    "4. hr : hour (0 to 23)<br>\n",
    "5. holiday : weather day is holiday or not (extracted from [Web Link])<br>\n",
    "6. weekday : day of the week<br>\n",
    "7. workingday : if day is neither weekend nor holiday is 1, otherwise is 0.<br>\n",
    "8. + weathersit :<br>\n",
    "i. 1: Clear, Few clouds, Partly cloudy, Partly cloudy<br>\n",
    "ii. 2: Mist + Cloudy, Mist + Broken clouds, Mist + Few clouds, Mist<br>\n",
    "iii. 3: Light Snow, Light Rain + Thunderstorm + Scattered clouds, Light Rain + Scattered clouds<br>\n",
    "iv. 4: Heavy Rain + Ice Pallets + Thunderstorm + Mist, Snow + Fog<br>\n",
    "9. temp : Normalized temperature in Celsius. The values are divided to 41 (max)<br>\n",
    "10. atemp: Normalized feeling temperature in Celsius. The values are divided to 50 (max)<br>\n",
    "11. hum: Normalized humidity. The values are divided to 100 (max)<br>\n",
    "12. windspeed: Normalized wind speed. The values are divided to 67 (max)<br>\n",
    "13. casual: count of casual users<br>\n",
    "14. registered: count of registered users<br>\n",
    "15. cnt: count of total rental bikes including both casual and registered<br>"
   ],
   "metadata": {}
  },
  {
   "cell_type": "markdown",
   "source": [
    "## Task 1"
   ],
   "metadata": {}
  },
  {
   "cell_type": "code",
   "execution_count": 71,
   "source": [
    "# Calculate the average temperature value (column index 9) for the entire dataset. \n",
    "# Note the temperature values in this column have been already normalized by dividing by 41."
   ],
   "outputs": [],
   "metadata": {}
  },
  {
   "cell_type": "code",
   "execution_count": 75,
   "source": [
    "bike_ds = np.genfromtxt(os.path.join(FOLDER, bike_file), delimiter=',')\n",
    "print(bike_ds.shape)"
   ],
   "outputs": [
    {
     "output_type": "stream",
     "name": "stdout",
     "text": [
      "(17379, 16)\n"
     ]
    }
   ],
   "metadata": {}
  },
  {
   "cell_type": "code",
   "execution_count": 77,
   "source": [
    "avg_temp = np.mean(bike_ds[:,9]) * 41\n",
    "print(f'Average Tempretaure: {avg_temp:.2f}')"
   ],
   "outputs": [
    {
     "output_type": "stream",
     "name": "stdout",
     "text": [
      "Average Tempretaure: 20.38\n"
     ]
    }
   ],
   "metadata": {}
  },
  {
   "cell_type": "markdown",
   "source": [
    "## Task 2"
   ],
   "metadata": {}
  },
  {
   "cell_type": "code",
   "execution_count": null,
   "source": [
    "# Print out the average number of casual users for all days\n",
    "# classified as holidays as well as the average for all days classified as non-holidays. \n",
    "# (Note holidays =1 and non-holidays = 0). Holidays attribute is stored at index 5."
   ],
   "outputs": [],
   "metadata": {}
  },
  {
   "cell_type": "code",
   "execution_count": 85,
   "source": [
    "users_holiday= np.mean(bike_ds[bike_ds[:,5]==1][13])\n",
    "users_non_holiday= np.mean(bike_ds[bike_ds[:,5]==0][13])\n",
    "\n",
    "print(f\"Number of Casual users on holidays: {round(users_holiday)}\")\n",
    "print(f\"Number of Casual users on non-holidays: {round(users_non_holiday)}\")\n"
   ],
   "outputs": [
    {
     "output_type": "stream",
     "name": "stdout",
     "text": [
      "Number of Casual users on holidays: 37\n",
      "Number of Casual users on non-holidays: 14\n"
     ]
    }
   ],
   "metadata": {}
  },
  {
   "cell_type": "code",
   "execution_count": 83,
   "source": [
    "avg_users_holiday"
   ],
   "outputs": [
    {
     "output_type": "execute_result",
     "data": {
      "text/plain": [
       "0.0"
      ]
     },
     "metadata": {},
     "execution_count": 83
    }
   ],
   "metadata": {}
  },
  {
   "cell_type": "markdown",
   "source": [
    "## Task 3"
   ],
   "metadata": {}
  },
  {
   "cell_type": "code",
   "execution_count": 86,
   "source": [
    "# Write NumPy code that will print out the total number of casual users for each month of the year. \n",
    "# You would expect to see an increase in the number of casual users over the summer\n",
    "# months and a decline for the winter months."
   ],
   "outputs": [],
   "metadata": {}
  },
  {
   "cell_type": "code",
   "execution_count": 91,
   "source": [
    "months = np.unique(bike_ds[:,3])\n",
    "monthly_users = {}\n",
    "for i in months:\n",
    "    tot_users = np.sum(bike_ds[bike_ds[:,3] == i,13])\n",
    "    print(f\"Month {int(i)}: Total users: {int(tot_users)}\")\n",
    "    monthly_users[i] = int(tot_users)"
   ],
   "outputs": [
    {
     "output_type": "stream",
     "name": "stdout",
     "text": [
      "Month 1: Total users: 12042\n",
      "Month 2: Total users: 14963\n",
      "Month 3: Total users: 44444\n",
      "Month 4: Total users: 60802\n",
      "Month 5: Total users: 75285\n",
      "Month 6: Total users: 73906\n",
      "Month 7: Total users: 78157\n",
      "Month 8: Total users: 72039\n",
      "Month 9: Total users: 70323\n",
      "Month 10: Total users: 59760\n",
      "Month 11: Total users: 36603\n",
      "Month 12: Total users: 21693\n"
     ]
    }
   ],
   "metadata": {}
  },
  {
   "cell_type": "code",
   "execution_count": 95,
   "source": [
    "summer_users = np.sum([monthly_users[i] for i in summer_months])\n",
    "aut_users = np.sum([monthly_users[i] for i in autumn_months])\n",
    "\n",
    "print(f\"Total number of Summer users: {int(summer_users)}\")\n",
    "print(f\"Total number of Autumn users: {int(aut_users)}\")"
   ],
   "outputs": [
    {
     "output_type": "stream",
     "name": "stdout",
     "text": [
      "Total number of Summer users: 224102\n",
      "Total number of Autumn users: 166686\n"
     ]
    }
   ],
   "metadata": {}
  },
  {
   "cell_type": "markdown",
   "source": [
    "## Task 5"
   ],
   "metadata": {}
  },
  {
   "cell_type": "code",
   "execution_count": 96,
   "source": [
    "# We will now look at the relationship between temperature and the number of rental users. \n",
    "# Your code should work out the average number of rental users for the following temperature ranges.\n",
    "# • 1, 5\n",
    "# • 6, 10\n",
    "# • 11, 15\n",
    "# • 16, 20\n",
    "# • 21, 25\n",
    "# • 26, 30\n",
    "# • 31, 35\n",
    "# • 36, 40\n",
    "# Remember the temperature values specified in the file have been normalised by dividing by 41."
   ],
   "outputs": [],
   "metadata": {}
  },
  {
   "cell_type": "code",
   "execution_count": 143,
   "source": [
    "NORMALIZER = 41\n",
    "for i, j in zip(np.arange(1,41,5),np.arange(5,41,5)):\n",
    "    \n",
    "    my_filter = (bike_ds[:,9]*NORMALIZER >= i) & (bike_ds[:,9]*NORMALIZER <= j)\n",
    "    avg_temp = np.mean(bike_ds[my_filter,15])\n",
    "    print(f\"For temp in range {i} to {j} the mean number of total rental users was {avg_temp:.9f}\")\n"
   ],
   "outputs": [
    {
     "output_type": "stream",
     "name": "stdout",
     "text": [
      "For temp in range 1 to 5 the mean number of total rental users was 49.295454545\n",
      "For temp in range 6 to 10 the mean number of total rental users was 73.667063020\n",
      "For temp in range 11 to 15 the mean number of total rental users was 130.681770652\n",
      "For temp in range 16 to 20 the mean number of total rental users was 169.066772655\n",
      "For temp in range 21 to 25 the mean number of total rental users was 211.700074516\n",
      "For temp in range 26 to 30 the mean number of total rental users was 242.172678691\n",
      "For temp in range 31 to 35 the mean number of total rental users was 337.473005641\n",
      "For temp in range 36 to 40 the mean number of total rental users was 314.991111111\n"
     ]
    }
   ],
   "metadata": {}
  },
  {
   "cell_type": "code",
   "execution_count": null,
   "source": [],
   "outputs": [],
   "metadata": {}
  }
 ],
 "metadata": {
  "orig_nbformat": 4,
  "language_info": {
   "name": "python",
   "version": "3.8.8",
   "mimetype": "text/x-python",
   "codemirror_mode": {
    "name": "ipython",
    "version": 3
   },
   "pygments_lexer": "ipython3",
   "nbconvert_exporter": "python",
   "file_extension": ".py"
  },
  "kernelspec": {
   "name": "python3",
   "display_name": "Python 3.8.8 64-bit ('base': conda)"
  },
  "interpreter": {
   "hash": "016f416f43c7de9d71e7f049375c6b8b903fae571cb02d2ed6c16dadea121115"
  }
 },
 "nbformat": 4,
 "nbformat_minor": 2
}